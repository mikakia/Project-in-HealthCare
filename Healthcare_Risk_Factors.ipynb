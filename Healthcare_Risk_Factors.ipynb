{
  "cells": [
    {
      "cell_type": "markdown",
      "metadata": {
        "id": "view-in-github",
        "colab_type": "text"
      },
      "source": [
        "<a href=\"https://colab.research.google.com/github/mikakia/Project-in-HealthCare/blob/FirstStep/Healthcare_Risk_Factors.ipynb\" target=\"_parent\"><img src=\"https://colab.research.google.com/assets/colab-badge.svg\" alt=\"Open In Colab\"/></a>"
      ]
    },
    {
      "cell_type": "markdown",
      "metadata": {
        "id": "elkTRcXhkDL4"
      },
      "source": [
        "#Imports"
      ]
    },
    {
      "cell_type": "code",
      "execution_count": null,
      "metadata": {
        "id": "ZZXZLxjMU79J"
      },
      "outputs": [],
      "source": [
        "import pandas as pd\n",
        "import numpy as np\n",
        "import matplotlib.pyplot as plt\n",
        "\n",
        "import  missingno as msno\n",
        "\n",
        "import seaborn as sns\n",
        "\n",
        "from sklearn.preprocessing import MinMaxScaler, StandardScaler\n",
        "from sklearn.datasets import make_classification, make_regression\n",
        "from sklearn.model_selection import train_test_split\n",
        "\n",
        "from sklearn.linear_model import LogisticRegression\n",
        "from sklearn.svm import LinearSVC, SVC, NuSVC\n",
        "from sklearn.preprocessing import LabelEncoder, OneHotEncoder\n",
        "from sklearn.neighbors import KNeighborsClassifier\n",
        "from sklearn.ensemble import RandomForestClassifier\n",
        "\n",
        "from sklearn.metrics import classification_report, confusion_matrix, ConfusionMatrixDisplay\n",
        "from sklearn.metrics import classification_report, confusion_matrix, accuracy_score\n",
        "from sklearn.ensemble import GradientBoostingClassifier\n",
        "from sklearn.decomposition import PCA\n",
        "\n",
        "from xgboost import XGBClassifier\n",
        "from sklearn.neural_network import MLPClassifier\n",
        "from sklearn.model_selection import KFold, cross_val_score,cross_val_predict\n"
      ]
    },
    {
      "cell_type": "markdown",
      "metadata": {
        "id": "tnN6HNdxkb5A"
      },
      "source": [
        "#Exploring the Dataset"
      ]
    },
    {
      "cell_type": "code",
      "execution_count": 157,
      "metadata": {
        "id": "F4Lx6p3MonKy",
        "colab": {
          "base_uri": "https://localhost:8080/",
          "height": 243
        },
        "outputId": "b4dd6609-0373-4a4b-9dd3-7bc4d081d503"
      },
      "outputs": [
        {
          "output_type": "execute_result",
          "data": {
            "text/plain": [
              "    Age  Gender Medical Condition  Glucose  Blood Pressure    BMI  \\\n",
              "0  46.0    Male          Diabetes   137.04          135.27  28.90   \n",
              "1  22.0    Male           Healthy    71.58          113.27  26.29   \n",
              "2  50.0     NaN            Asthma    95.24             NaN  22.53   \n",
              "3  57.0     NaN           Obesity      NaN          130.53  38.47   \n",
              "4  66.0  Female      Hypertension    95.15          178.17  31.12   \n",
              "\n",
              "   Oxygen Saturation  LengthOfStay  Cholesterol  Triglycerides  HbA1c  \\\n",
              "0              96.04             6       231.88         210.56   7.61   \n",
              "1              97.54             2       165.57         129.41   4.91   \n",
              "2              90.31             2       214.94         165.35   5.60   \n",
              "3              96.60             5       197.71         182.13   6.92   \n",
              "4              94.90             4       259.53         115.85   5.98   \n",
              "\n",
              "   Smoking  Alcohol  Physical Activity  Diet Score  Family History  \\\n",
              "0        0        0              -0.20        3.54               0   \n",
              "1        0        0               8.12        5.90               0   \n",
              "2        0        0               5.01        4.65               1   \n",
              "3        0        0               3.16        3.37               0   \n",
              "4        0        1               3.56        3.40               0   \n",
              "\n",
              "   Stress Level  Sleep Hours random_notes   noise_col  \n",
              "0          5.07         6.05        lorem -137.057211  \n",
              "1          5.87         7.72        ipsum  -11.230610  \n",
              "2          3.09         4.82        ipsum   98.331195  \n",
              "3          3.01         5.33        lorem   44.187175  \n",
              "4          6.38         6.64        lorem   44.831426  "
            ],
            "text/html": [
              "\n",
              "  <div id=\"df-df4eb1c0-d20b-46aa-b317-f7faac78811e\" class=\"colab-df-container\">\n",
              "    <div>\n",
              "<style scoped>\n",
              "    .dataframe tbody tr th:only-of-type {\n",
              "        vertical-align: middle;\n",
              "    }\n",
              "\n",
              "    .dataframe tbody tr th {\n",
              "        vertical-align: top;\n",
              "    }\n",
              "\n",
              "    .dataframe thead th {\n",
              "        text-align: right;\n",
              "    }\n",
              "</style>\n",
              "<table border=\"1\" class=\"dataframe\">\n",
              "  <thead>\n",
              "    <tr style=\"text-align: right;\">\n",
              "      <th></th>\n",
              "      <th>Age</th>\n",
              "      <th>Gender</th>\n",
              "      <th>Medical Condition</th>\n",
              "      <th>Glucose</th>\n",
              "      <th>Blood Pressure</th>\n",
              "      <th>BMI</th>\n",
              "      <th>Oxygen Saturation</th>\n",
              "      <th>LengthOfStay</th>\n",
              "      <th>Cholesterol</th>\n",
              "      <th>Triglycerides</th>\n",
              "      <th>HbA1c</th>\n",
              "      <th>Smoking</th>\n",
              "      <th>Alcohol</th>\n",
              "      <th>Physical Activity</th>\n",
              "      <th>Diet Score</th>\n",
              "      <th>Family History</th>\n",
              "      <th>Stress Level</th>\n",
              "      <th>Sleep Hours</th>\n",
              "      <th>random_notes</th>\n",
              "      <th>noise_col</th>\n",
              "    </tr>\n",
              "  </thead>\n",
              "  <tbody>\n",
              "    <tr>\n",
              "      <th>0</th>\n",
              "      <td>46.0</td>\n",
              "      <td>Male</td>\n",
              "      <td>Diabetes</td>\n",
              "      <td>137.04</td>\n",
              "      <td>135.27</td>\n",
              "      <td>28.90</td>\n",
              "      <td>96.04</td>\n",
              "      <td>6</td>\n",
              "      <td>231.88</td>\n",
              "      <td>210.56</td>\n",
              "      <td>7.61</td>\n",
              "      <td>0</td>\n",
              "      <td>0</td>\n",
              "      <td>-0.20</td>\n",
              "      <td>3.54</td>\n",
              "      <td>0</td>\n",
              "      <td>5.07</td>\n",
              "      <td>6.05</td>\n",
              "      <td>lorem</td>\n",
              "      <td>-137.057211</td>\n",
              "    </tr>\n",
              "    <tr>\n",
              "      <th>1</th>\n",
              "      <td>22.0</td>\n",
              "      <td>Male</td>\n",
              "      <td>Healthy</td>\n",
              "      <td>71.58</td>\n",
              "      <td>113.27</td>\n",
              "      <td>26.29</td>\n",
              "      <td>97.54</td>\n",
              "      <td>2</td>\n",
              "      <td>165.57</td>\n",
              "      <td>129.41</td>\n",
              "      <td>4.91</td>\n",
              "      <td>0</td>\n",
              "      <td>0</td>\n",
              "      <td>8.12</td>\n",
              "      <td>5.90</td>\n",
              "      <td>0</td>\n",
              "      <td>5.87</td>\n",
              "      <td>7.72</td>\n",
              "      <td>ipsum</td>\n",
              "      <td>-11.230610</td>\n",
              "    </tr>\n",
              "    <tr>\n",
              "      <th>2</th>\n",
              "      <td>50.0</td>\n",
              "      <td>NaN</td>\n",
              "      <td>Asthma</td>\n",
              "      <td>95.24</td>\n",
              "      <td>NaN</td>\n",
              "      <td>22.53</td>\n",
              "      <td>90.31</td>\n",
              "      <td>2</td>\n",
              "      <td>214.94</td>\n",
              "      <td>165.35</td>\n",
              "      <td>5.60</td>\n",
              "      <td>0</td>\n",
              "      <td>0</td>\n",
              "      <td>5.01</td>\n",
              "      <td>4.65</td>\n",
              "      <td>1</td>\n",
              "      <td>3.09</td>\n",
              "      <td>4.82</td>\n",
              "      <td>ipsum</td>\n",
              "      <td>98.331195</td>\n",
              "    </tr>\n",
              "    <tr>\n",
              "      <th>3</th>\n",
              "      <td>57.0</td>\n",
              "      <td>NaN</td>\n",
              "      <td>Obesity</td>\n",
              "      <td>NaN</td>\n",
              "      <td>130.53</td>\n",
              "      <td>38.47</td>\n",
              "      <td>96.60</td>\n",
              "      <td>5</td>\n",
              "      <td>197.71</td>\n",
              "      <td>182.13</td>\n",
              "      <td>6.92</td>\n",
              "      <td>0</td>\n",
              "      <td>0</td>\n",
              "      <td>3.16</td>\n",
              "      <td>3.37</td>\n",
              "      <td>0</td>\n",
              "      <td>3.01</td>\n",
              "      <td>5.33</td>\n",
              "      <td>lorem</td>\n",
              "      <td>44.187175</td>\n",
              "    </tr>\n",
              "    <tr>\n",
              "      <th>4</th>\n",
              "      <td>66.0</td>\n",
              "      <td>Female</td>\n",
              "      <td>Hypertension</td>\n",
              "      <td>95.15</td>\n",
              "      <td>178.17</td>\n",
              "      <td>31.12</td>\n",
              "      <td>94.90</td>\n",
              "      <td>4</td>\n",
              "      <td>259.53</td>\n",
              "      <td>115.85</td>\n",
              "      <td>5.98</td>\n",
              "      <td>0</td>\n",
              "      <td>1</td>\n",
              "      <td>3.56</td>\n",
              "      <td>3.40</td>\n",
              "      <td>0</td>\n",
              "      <td>6.38</td>\n",
              "      <td>6.64</td>\n",
              "      <td>lorem</td>\n",
              "      <td>44.831426</td>\n",
              "    </tr>\n",
              "  </tbody>\n",
              "</table>\n",
              "</div>\n",
              "    <div class=\"colab-df-buttons\">\n",
              "\n",
              "  <div class=\"colab-df-container\">\n",
              "    <button class=\"colab-df-convert\" onclick=\"convertToInteractive('df-df4eb1c0-d20b-46aa-b317-f7faac78811e')\"\n",
              "            title=\"Convert this dataframe to an interactive table.\"\n",
              "            style=\"display:none;\">\n",
              "\n",
              "  <svg xmlns=\"http://www.w3.org/2000/svg\" height=\"24px\" viewBox=\"0 -960 960 960\">\n",
              "    <path d=\"M120-120v-720h720v720H120Zm60-500h600v-160H180v160Zm220 220h160v-160H400v160Zm0 220h160v-160H400v160ZM180-400h160v-160H180v160Zm440 0h160v-160H620v160ZM180-180h160v-160H180v160Zm440 0h160v-160H620v160Z\"/>\n",
              "  </svg>\n",
              "    </button>\n",
              "\n",
              "  <style>\n",
              "    .colab-df-container {\n",
              "      display:flex;\n",
              "      gap: 12px;\n",
              "    }\n",
              "\n",
              "    .colab-df-convert {\n",
              "      background-color: #E8F0FE;\n",
              "      border: none;\n",
              "      border-radius: 50%;\n",
              "      cursor: pointer;\n",
              "      display: none;\n",
              "      fill: #1967D2;\n",
              "      height: 32px;\n",
              "      padding: 0 0 0 0;\n",
              "      width: 32px;\n",
              "    }\n",
              "\n",
              "    .colab-df-convert:hover {\n",
              "      background-color: #E2EBFA;\n",
              "      box-shadow: 0px 1px 2px rgba(60, 64, 67, 0.3), 0px 1px 3px 1px rgba(60, 64, 67, 0.15);\n",
              "      fill: #174EA6;\n",
              "    }\n",
              "\n",
              "    .colab-df-buttons div {\n",
              "      margin-bottom: 4px;\n",
              "    }\n",
              "\n",
              "    [theme=dark] .colab-df-convert {\n",
              "      background-color: #3B4455;\n",
              "      fill: #D2E3FC;\n",
              "    }\n",
              "\n",
              "    [theme=dark] .colab-df-convert:hover {\n",
              "      background-color: #434B5C;\n",
              "      box-shadow: 0px 1px 3px 1px rgba(0, 0, 0, 0.15);\n",
              "      filter: drop-shadow(0px 1px 2px rgba(0, 0, 0, 0.3));\n",
              "      fill: #FFFFFF;\n",
              "    }\n",
              "  </style>\n",
              "\n",
              "    <script>\n",
              "      const buttonEl =\n",
              "        document.querySelector('#df-df4eb1c0-d20b-46aa-b317-f7faac78811e button.colab-df-convert');\n",
              "      buttonEl.style.display =\n",
              "        google.colab.kernel.accessAllowed ? 'block' : 'none';\n",
              "\n",
              "      async function convertToInteractive(key) {\n",
              "        const element = document.querySelector('#df-df4eb1c0-d20b-46aa-b317-f7faac78811e');\n",
              "        const dataTable =\n",
              "          await google.colab.kernel.invokeFunction('convertToInteractive',\n",
              "                                                    [key], {});\n",
              "        if (!dataTable) return;\n",
              "\n",
              "        const docLinkHtml = 'Like what you see? Visit the ' +\n",
              "          '<a target=\"_blank\" href=https://colab.research.google.com/notebooks/data_table.ipynb>data table notebook</a>'\n",
              "          + ' to learn more about interactive tables.';\n",
              "        element.innerHTML = '';\n",
              "        dataTable['output_type'] = 'display_data';\n",
              "        await google.colab.output.renderOutput(dataTable, element);\n",
              "        const docLink = document.createElement('div');\n",
              "        docLink.innerHTML = docLinkHtml;\n",
              "        element.appendChild(docLink);\n",
              "      }\n",
              "    </script>\n",
              "  </div>\n",
              "\n",
              "\n",
              "    <div id=\"df-4b3e8c00-c0c6-46df-93f4-625315228299\">\n",
              "      <button class=\"colab-df-quickchart\" onclick=\"quickchart('df-4b3e8c00-c0c6-46df-93f4-625315228299')\"\n",
              "                title=\"Suggest charts\"\n",
              "                style=\"display:none;\">\n",
              "\n",
              "<svg xmlns=\"http://www.w3.org/2000/svg\" height=\"24px\"viewBox=\"0 0 24 24\"\n",
              "     width=\"24px\">\n",
              "    <g>\n",
              "        <path d=\"M19 3H5c-1.1 0-2 .9-2 2v14c0 1.1.9 2 2 2h14c1.1 0 2-.9 2-2V5c0-1.1-.9-2-2-2zM9 17H7v-7h2v7zm4 0h-2V7h2v10zm4 0h-2v-4h2v4z\"/>\n",
              "    </g>\n",
              "</svg>\n",
              "      </button>\n",
              "\n",
              "<style>\n",
              "  .colab-df-quickchart {\n",
              "      --bg-color: #E8F0FE;\n",
              "      --fill-color: #1967D2;\n",
              "      --hover-bg-color: #E2EBFA;\n",
              "      --hover-fill-color: #174EA6;\n",
              "      --disabled-fill-color: #AAA;\n",
              "      --disabled-bg-color: #DDD;\n",
              "  }\n",
              "\n",
              "  [theme=dark] .colab-df-quickchart {\n",
              "      --bg-color: #3B4455;\n",
              "      --fill-color: #D2E3FC;\n",
              "      --hover-bg-color: #434B5C;\n",
              "      --hover-fill-color: #FFFFFF;\n",
              "      --disabled-bg-color: #3B4455;\n",
              "      --disabled-fill-color: #666;\n",
              "  }\n",
              "\n",
              "  .colab-df-quickchart {\n",
              "    background-color: var(--bg-color);\n",
              "    border: none;\n",
              "    border-radius: 50%;\n",
              "    cursor: pointer;\n",
              "    display: none;\n",
              "    fill: var(--fill-color);\n",
              "    height: 32px;\n",
              "    padding: 0;\n",
              "    width: 32px;\n",
              "  }\n",
              "\n",
              "  .colab-df-quickchart:hover {\n",
              "    background-color: var(--hover-bg-color);\n",
              "    box-shadow: 0 1px 2px rgba(60, 64, 67, 0.3), 0 1px 3px 1px rgba(60, 64, 67, 0.15);\n",
              "    fill: var(--button-hover-fill-color);\n",
              "  }\n",
              "\n",
              "  .colab-df-quickchart-complete:disabled,\n",
              "  .colab-df-quickchart-complete:disabled:hover {\n",
              "    background-color: var(--disabled-bg-color);\n",
              "    fill: var(--disabled-fill-color);\n",
              "    box-shadow: none;\n",
              "  }\n",
              "\n",
              "  .colab-df-spinner {\n",
              "    border: 2px solid var(--fill-color);\n",
              "    border-color: transparent;\n",
              "    border-bottom-color: var(--fill-color);\n",
              "    animation:\n",
              "      spin 1s steps(1) infinite;\n",
              "  }\n",
              "\n",
              "  @keyframes spin {\n",
              "    0% {\n",
              "      border-color: transparent;\n",
              "      border-bottom-color: var(--fill-color);\n",
              "      border-left-color: var(--fill-color);\n",
              "    }\n",
              "    20% {\n",
              "      border-color: transparent;\n",
              "      border-left-color: var(--fill-color);\n",
              "      border-top-color: var(--fill-color);\n",
              "    }\n",
              "    30% {\n",
              "      border-color: transparent;\n",
              "      border-left-color: var(--fill-color);\n",
              "      border-top-color: var(--fill-color);\n",
              "      border-right-color: var(--fill-color);\n",
              "    }\n",
              "    40% {\n",
              "      border-color: transparent;\n",
              "      border-right-color: var(--fill-color);\n",
              "      border-top-color: var(--fill-color);\n",
              "    }\n",
              "    60% {\n",
              "      border-color: transparent;\n",
              "      border-right-color: var(--fill-color);\n",
              "    }\n",
              "    80% {\n",
              "      border-color: transparent;\n",
              "      border-right-color: var(--fill-color);\n",
              "      border-bottom-color: var(--fill-color);\n",
              "    }\n",
              "    90% {\n",
              "      border-color: transparent;\n",
              "      border-bottom-color: var(--fill-color);\n",
              "    }\n",
              "  }\n",
              "</style>\n",
              "\n",
              "      <script>\n",
              "        async function quickchart(key) {\n",
              "          const quickchartButtonEl =\n",
              "            document.querySelector('#' + key + ' button');\n",
              "          quickchartButtonEl.disabled = true;  // To prevent multiple clicks.\n",
              "          quickchartButtonEl.classList.add('colab-df-spinner');\n",
              "          try {\n",
              "            const charts = await google.colab.kernel.invokeFunction(\n",
              "                'suggestCharts', [key], {});\n",
              "          } catch (error) {\n",
              "            console.error('Error during call to suggestCharts:', error);\n",
              "          }\n",
              "          quickchartButtonEl.classList.remove('colab-df-spinner');\n",
              "          quickchartButtonEl.classList.add('colab-df-quickchart-complete');\n",
              "        }\n",
              "        (() => {\n",
              "          let quickchartButtonEl =\n",
              "            document.querySelector('#df-4b3e8c00-c0c6-46df-93f4-625315228299 button');\n",
              "          quickchartButtonEl.style.display =\n",
              "            google.colab.kernel.accessAllowed ? 'block' : 'none';\n",
              "        })();\n",
              "      </script>\n",
              "    </div>\n",
              "\n",
              "    </div>\n",
              "  </div>\n"
            ],
            "application/vnd.google.colaboratory.intrinsic+json": {
              "type": "dataframe",
              "variable_name": "df",
              "summary": "{\n  \"name\": \"df\",\n  \"rows\": 30000,\n  \"fields\": [\n    {\n      \"column\": \"Age\",\n      \"properties\": {\n        \"dtype\": \"number\",\n        \"std\": 15.973618413114838,\n        \"min\": 10.0,\n        \"max\": 89.0,\n        \"num_unique_values\": 80,\n        \"samples\": [\n          55.0,\n          46.0,\n          25.0\n        ],\n        \"semantic_type\": \"\",\n        \"description\": \"\"\n      }\n    },\n    {\n      \"column\": \"Gender\",\n      \"properties\": {\n        \"dtype\": \"category\",\n        \"num_unique_values\": 2,\n        \"samples\": [\n          \"Female\",\n          \"Male\"\n        ],\n        \"semantic_type\": \"\",\n        \"description\": \"\"\n      }\n    },\n    {\n      \"column\": \"Medical Condition\",\n      \"properties\": {\n        \"dtype\": \"category\",\n        \"num_unique_values\": 7,\n        \"samples\": [\n          \"Diabetes\",\n          \"Healthy\"\n        ],\n        \"semantic_type\": \"\",\n        \"description\": \"\"\n      }\n    },\n    {\n      \"column\": \"Glucose\",\n      \"properties\": {\n        \"dtype\": \"number\",\n        \"std\": 41.57694338979088,\n        \"min\": 20.32,\n        \"max\": 318.51,\n        \"num_unique_values\": 11097,\n        \"samples\": [\n          72.89,\n          111.08\n        ],\n        \"semantic_type\": \"\",\n        \"description\": \"\"\n      }\n    },\n    {\n      \"column\": \"Blood Pressure\",\n      \"properties\": {\n        \"dtype\": \"number\",\n        \"std\": 21.077932876157266,\n        \"min\": 74.24,\n        \"max\": 226.38,\n        \"num_unique_values\": 8259,\n        \"samples\": [\n          118.88,\n          159.52\n        ],\n        \"semantic_type\": \"\",\n        \"description\": \"\"\n      }\n    },\n    {\n      \"column\": \"BMI\",\n      \"properties\": {\n        \"dtype\": \"number\",\n        \"std\": 5.728803504938212,\n        \"min\": 7.67,\n        \"max\": 56.85,\n        \"num_unique_values\": 3097,\n        \"samples\": [\n          37.76,\n          23.56\n        ],\n        \"semantic_type\": \"\",\n        \"description\": \"\"\n      }\n    },\n    {\n      \"column\": \"Oxygen Saturation\",\n      \"properties\": {\n        \"dtype\": \"number\",\n        \"std\": 3.7362024258447324,\n        \"min\": 67.51,\n        \"max\": 110.07,\n        \"num_unique_values\": 2267,\n        \"samples\": [\n          101.67,\n          92.77\n        ],\n        \"semantic_type\": \"\",\n        \"description\": \"\"\n      }\n    },\n    {\n      \"column\": \"LengthOfStay\",\n      \"properties\": {\n        \"dtype\": \"number\",\n        \"std\": 2,\n        \"min\": 1,\n        \"max\": 19,\n        \"num_unique_values\": 19,\n        \"samples\": [\n          6,\n          19\n        ],\n        \"semantic_type\": \"\",\n        \"description\": \"\"\n      }\n    },\n    {\n      \"column\": \"Cholesterol\",\n      \"properties\": {\n        \"dtype\": \"number\",\n        \"std\": 33.51975737691397,\n        \"min\": 95.73,\n        \"max\": 358.37,\n        \"num_unique_values\": 12021,\n        \"samples\": [\n          144.14,\n          277.72\n        ],\n        \"semantic_type\": \"\",\n        \"description\": \"\"\n      }\n    },\n    {\n      \"column\": \"Triglycerides\",\n      \"properties\": {\n        \"dtype\": \"number\",\n        \"std\": 48.81282670722248,\n        \"min\": -22.48,\n        \"max\": 421.51,\n        \"num_unique_values\": 14840,\n        \"samples\": [\n          271.07,\n          174.5\n        ],\n        \"semantic_type\": \"\",\n        \"description\": \"\"\n      }\n    },\n    {\n      \"column\": \"HbA1c\",\n      \"properties\": {\n        \"dtype\": \"number\",\n        \"std\": 1.3202693041846425,\n        \"min\": 3.28,\n        \"max\": 12.36,\n        \"num_unique_values\": 770,\n        \"samples\": [\n          3.37,\n          11.77\n        ],\n        \"semantic_type\": \"\",\n        \"description\": \"\"\n      }\n    },\n    {\n      \"column\": \"Smoking\",\n      \"properties\": {\n        \"dtype\": \"number\",\n        \"std\": 0,\n        \"min\": 0,\n        \"max\": 1,\n        \"num_unique_values\": 2,\n        \"samples\": [\n          1,\n          0\n        ],\n        \"semantic_type\": \"\",\n        \"description\": \"\"\n      }\n    },\n    {\n      \"column\": \"Alcohol\",\n      \"properties\": {\n        \"dtype\": \"number\",\n        \"std\": 0,\n        \"min\": 0,\n        \"max\": 1,\n        \"num_unique_values\": 2,\n        \"samples\": [\n          1,\n          0\n        ],\n        \"semantic_type\": \"\",\n        \"description\": \"\"\n      }\n    },\n    {\n      \"column\": \"Physical Activity\",\n      \"properties\": {\n        \"dtype\": \"number\",\n        \"std\": 2.011728618161263,\n        \"min\": -3.68,\n        \"max\": 12.41,\n        \"num_unique_values\": 1154,\n        \"samples\": [\n          0.46,\n          4.89\n        ],\n        \"semantic_type\": \"\",\n        \"description\": \"\"\n      }\n    },\n    {\n      \"column\": \"Diet Score\",\n      \"properties\": {\n        \"dtype\": \"number\",\n        \"std\": 1.8171652519895871,\n        \"min\": -1.75,\n        \"max\": 12.06,\n        \"num_unique_values\": 1103,\n        \"samples\": [\n          2.72,\n          9.89\n        ],\n        \"semantic_type\": \"\",\n        \"description\": \"\"\n      }\n    },\n    {\n      \"column\": \"Family History\",\n      \"properties\": {\n        \"dtype\": \"number\",\n        \"std\": 0,\n        \"min\": 0,\n        \"max\": 1,\n        \"num_unique_values\": 2,\n        \"samples\": [\n          1,\n          0\n        ],\n        \"semantic_type\": \"\",\n        \"description\": \"\"\n      }\n    },\n    {\n      \"column\": \"Stress Level\",\n      \"properties\": {\n        \"dtype\": \"number\",\n        \"std\": 2.2250569188540497,\n        \"min\": -2.44,\n        \"max\": 15.45,\n        \"num_unique_values\": 1300,\n        \"samples\": [\n          5.5,\n          0.02\n        ],\n        \"semantic_type\": \"\",\n        \"description\": \"\"\n      }\n    },\n    {\n      \"column\": \"Sleep Hours\",\n      \"properties\": {\n        \"dtype\": \"number\",\n        \"std\": 1.187669331762546,\n        \"min\": 1.59,\n        \"max\": 10.35,\n        \"num_unique_values\": 745,\n        \"samples\": [\n          9.28,\n          9.29\n        ],\n        \"semantic_type\": \"\",\n        \"description\": \"\"\n      }\n    },\n    {\n      \"column\": \"random_notes\",\n      \"properties\": {\n        \"dtype\": \"category\",\n        \"num_unique_values\": 4,\n        \"samples\": [\n          \"ipsum\",\n          \"??\"\n        ],\n        \"semantic_type\": \"\",\n        \"description\": \"\"\n      }\n    },\n    {\n      \"column\": \"noise_col\",\n      \"properties\": {\n        \"dtype\": \"number\",\n        \"std\": 100.07695895258836,\n        \"min\": -412.1695960009927,\n        \"max\": 467.8949100376724,\n        \"num_unique_values\": 30000,\n        \"samples\": [\n          55.94154617143799,\n          -60.69840756035671\n        ],\n        \"semantic_type\": \"\",\n        \"description\": \"\"\n      }\n    }\n  ]\n}"
            }
          },
          "metadata": {},
          "execution_count": 157
        }
      ],
      "source": [
        "url = \"https://raw.githubusercontent.com/mikakia/Project-in-HealthCare/main/dirty_v3_path.csv\"\n",
        "df = pd.read_csv(url)\n",
        "df.head()"
      ]
    },
    {
      "cell_type": "code",
      "execution_count": null,
      "metadata": {
        "id": "ZssBV-ZFpgNk"
      },
      "outputs": [],
      "source": [
        "df.shape"
      ]
    },
    {
      "cell_type": "code",
      "execution_count": null,
      "metadata": {
        "id": "02b-AycBp4xo"
      },
      "outputs": [],
      "source": [
        "#df.iloc[0:3, 2:4]\n",
        "df.iloc[[0, 1337]]\n",
        "#df.iloc[:, [0]]"
      ]
    },
    {
      "cell_type": "code",
      "execution_count": null,
      "metadata": {
        "id": "GTh8pm9YqisR"
      },
      "outputs": [],
      "source": [
        "df[['Gender', 'BMI']]\n",
        "#df.BMI"
      ]
    },
    {
      "cell_type": "code",
      "execution_count": null,
      "metadata": {
        "id": "2mz1_-Cx41rU"
      },
      "outputs": [],
      "source": [
        "df.dtypes"
      ]
    },
    {
      "cell_type": "code",
      "execution_count": null,
      "metadata": {
        "id": "cuPhxR6dmCAy"
      },
      "outputs": [],
      "source": [
        "df.info()"
      ]
    },
    {
      "cell_type": "markdown",
      "metadata": {
        "id": "D0IHj5aqkqls"
      },
      "source": [
        "#Preprocessing"
      ]
    },
    {
      "cell_type": "markdown",
      "metadata": {
        "id": "5nuC6Gmdk7iI"
      },
      "source": [
        "##Checking correlation and missing values"
      ]
    },
    {
      "cell_type": "code",
      "execution_count": null,
      "metadata": {
        "id": "8ruNOd7dr6jT"
      },
      "outputs": [],
      "source": [
        "#columns' names to lower case\n",
        "df.columns = ['age', 'gender', 'medical_condition', 'glucose', 'blood_pressure',\n",
        "       'bmi', 'oxygen_saturation', 'lengthofstay', 'cholesterol',\n",
        "       'triglycerides', 'hba1c', 'smoking', 'alcohol', 'physical_activity',\n",
        "       'diet_score', 'family_history', 'stress_level', 'sleep_hours',\n",
        "       'random_notes', 'noise_col']\n",
        "df.head()"
      ]
    },
    {
      "cell_type": "code",
      "execution_count": null,
      "metadata": {
        "id": "fSGZnJymuAxN"
      },
      "outputs": [],
      "source": [
        "df.describe()"
      ]
    },
    {
      "cell_type": "markdown",
      "metadata": {
        "id": "0uMs1ZVgDb5X"
      },
      "source": [
        "###Check for outliers in noise_col"
      ]
    },
    {
      "cell_type": "code",
      "execution_count": null,
      "metadata": {
        "id": "6QhI8s-yDpX6"
      },
      "outputs": [],
      "source": [
        "print(\"Min value:\", df['noise_col'].min())\n",
        "print(\"Max value:\", df['noise_col'].max())"
      ]
    },
    {
      "cell_type": "code",
      "execution_count": null,
      "metadata": {
        "id": "ZCtQ3xLuufj6"
      },
      "outputs": [],
      "source": [
        "df.corr(numeric_only=True)"
      ]
    },
    {
      "cell_type": "code",
      "execution_count": null,
      "metadata": {
        "id": "lbG8JSQE6zTV"
      },
      "outputs": [],
      "source": [
        "df.select_dtypes(exclude=['number']).head()"
      ]
    },
    {
      "cell_type": "markdown",
      "metadata": {
        "id": "3wfvm1WPk0aV"
      },
      "source": [
        "## Plots"
      ]
    },
    {
      "cell_type": "code",
      "execution_count": null,
      "metadata": {
        "id": "OR4IDhj8wNCW"
      },
      "outputs": [],
      "source": [
        "#SUBPLOTS\n",
        "\n",
        "fig, axes = plt.subplots(1, 2, figsize=(15, 5)) #1 row,2 plots\n",
        "\n",
        "# BMI\n",
        "axes[0].hist(df['bmi'], bins=10, color='darkcyan', edgecolor='black')\n",
        "axes[0].set_title('BMI Distribution')\n",
        "\n",
        "# Age\n",
        "axes[1].hist(df['age'], bins=10, color='orange', edgecolor='black')\n",
        "axes[1].set_title('Age Distribution')\n",
        "\n",
        "plt.tight_layout()\n",
        "plt.show()"
      ]
    },
    {
      "cell_type": "code",
      "execution_count": null,
      "metadata": {
        "id": "VHGjsEZdwtLu"
      },
      "outputs": [],
      "source": [
        "#Pairplots\n",
        "numeric_cols = ['age', 'smoking', 'blood_pressure']\n",
        "\n",
        "sns.pairplot(df, vars=numeric_cols, hue='medical_condition', diag_kind='hist', palette='Set1')\n",
        "plt.show()"
      ]
    },
    {
      "cell_type": "markdown",
      "metadata": {
        "id": "Ir_8A-6Hmb3Q"
      },
      "source": [
        "## Find and replace missing values"
      ]
    },
    {
      "cell_type": "code",
      "execution_count": null,
      "metadata": {
        "id": "nou_q73L7B0e"
      },
      "outputs": [],
      "source": [
        "df.info()\n",
        "df.isnull().sum()"
      ]
    },
    {
      "cell_type": "code",
      "execution_count": null,
      "metadata": {
        "id": "lA2r4rb07rsl"
      },
      "outputs": [],
      "source": [
        "msno.matrix(df)"
      ]
    },
    {
      "cell_type": "code",
      "execution_count": null,
      "metadata": {
        "id": "EJz4zhAN9QwB"
      },
      "outputs": [],
      "source": [
        "msno.heatmap(df)\n",
        "plt.show()\n"
      ]
    },
    {
      "cell_type": "code",
      "execution_count": null,
      "metadata": {
        "id": "4v02XQNC_G-S"
      },
      "outputs": [],
      "source": [
        "# skew()< 0.5-> mean, else median\n",
        "df['age'].skew() #mean\n",
        "#gender ->mode\n",
        "df['glucose'].skew() #median\n",
        "#medical_condition -> mode\n",
        "df['blood_pressure'].skew() #mean"
      ]
    },
    {
      "cell_type": "code",
      "execution_count": null,
      "metadata": {
        "id": "beDCxl-LD6oT"
      },
      "outputs": [],
      "source": [
        "#fill missing values\n",
        "df_clean = df.copy()\n",
        "mode_cols = ['gender', 'medical_condition']\n",
        "df_clean[mode_cols] = df_clean[mode_cols].fillna(df_clean[mode_cols].mode().iloc[0])\n",
        "\n",
        "df_clean['age'] = df_clean['age'].fillna(df_clean['age'].mean())\n",
        "df_clean['glucose'] = df_clean['glucose'].fillna(df_clean['glucose'].median())\n",
        "df_clean['blood_pressure'] = df_clean['blood_pressure'].fillna(df_clean['blood_pressure'].mean())"
      ]
    },
    {
      "cell_type": "code",
      "execution_count": null,
      "metadata": {
        "id": "Xbps224fD8HP"
      },
      "outputs": [],
      "source": [
        "# Check sum missing values in the dataset\n",
        "print(df_clean.isna().sum())"
      ]
    },
    {
      "cell_type": "markdown",
      "metadata": {
        "id": "snOAKM5EmkDg"
      },
      "source": [
        "## Convert categorical values to numerical by labeling"
      ]
    },
    {
      "cell_type": "code",
      "execution_count": null,
      "metadata": {
        "id": "zuvnIsa1Gk9w"
      },
      "outputs": [],
      "source": [
        "df_clean['gender'] = LabelEncoder().fit_transform(df_clean['gender'])\n",
        "df_clean.head()\n"
      ]
    },
    {
      "cell_type": "code",
      "execution_count": null,
      "metadata": {
        "id": "yXFTD3AUHPay"
      },
      "outputs": [],
      "source": [
        "df_clean.dtypes"
      ]
    },
    {
      "cell_type": "code",
      "execution_count": null,
      "metadata": {
        "id": "8O8Jwje4IV4u"
      },
      "outputs": [],
      "source": [
        "df_clean['random_notes'].unique()"
      ]
    },
    {
      "cell_type": "code",
      "execution_count": null,
      "metadata": {
        "id": "xIpK2b1cIju_"
      },
      "outputs": [],
      "source": [
        "df_clean['medical_condition'].unique()"
      ]
    },
    {
      "cell_type": "code",
      "execution_count": null,
      "metadata": {
        "id": "BqedwSjoJoop"
      },
      "outputs": [],
      "source": [
        "\n",
        "df_clean['medical_condition'] = LabelEncoder().fit_transform(df_clean['medical_condition'])\n",
        "df_clean['random_notes'] = LabelEncoder().fit_transform(df_clean['random_notes'])\n",
        "df_clean.head()\n"
      ]
    },
    {
      "cell_type": "code",
      "execution_count": null,
      "metadata": {
        "id": "U1ioh5QTaWMo"
      },
      "outputs": [],
      "source": [
        "df_clean['family_history'].head()"
      ]
    },
    {
      "cell_type": "markdown",
      "metadata": {
        "id": "noK0EDblm0G2"
      },
      "source": [
        "##Normalize the values"
      ]
    },
    {
      "cell_type": "code",
      "execution_count": null,
      "metadata": {
        "id": "4gvYl_JXLgwm"
      },
      "outputs": [],
      "source": [
        "#standarlization\n",
        "scaler = StandardScaler()\n",
        "standard_scaled_data = scaler.fit_transform(df_clean[['age', 'glucose','blood_pressure','bmi', 'oxygen_saturation', 'cholesterol',\n",
        "       'triglycerides', 'hba1c','diet_score','stress_level', 'sleep_hours','noise_col']])\n",
        "\n",
        "df_scaled = pd.DataFrame(standard_scaled_data, columns=['age', 'glucose','blood_pressure','bmi', 'oxygen_saturation', 'cholesterol',\n",
        "       'triglycerides', 'hba1c','diet_score','stress_level', 'sleep_hours','noise_col'])\n",
        "df_scaled"
      ]
    },
    {
      "cell_type": "code",
      "execution_count": null,
      "metadata": {
        "id": "c2hId0v3ZnHW"
      },
      "outputs": [],
      "source": [
        "df.columns = ['age', 'gender', 'medical_condition', 'glucose', 'blood_pressure',\n",
        "       'bmi', 'oxygen_saturation', 'lengthofstay', 'cholesterol',\n",
        "       'triglycerides', 'hba1c', 'smoking', 'alcohol', 'physical_activity',\n",
        "       'diet_score', 'family_history', 'stress_level', 'sleep_hours',\n",
        "       'random_notes', 'noise_col']"
      ]
    },
    {
      "cell_type": "code",
      "execution_count": null,
      "metadata": {
        "id": "Il0L0484hmmG"
      },
      "outputs": [],
      "source": [
        "# combined data (scaled and rest)\n",
        "df_complete = df_clean.copy()\n",
        "df_complete[['age', 'glucose','blood_pressure','bmi', 'oxygen_saturation', 'cholesterol',\n",
        "       'triglycerides', 'hba1c','diet_score','stress_level', 'sleep_hours','noise_col']] = df_scaled[['age', 'glucose','blood_pressure','bmi', 'oxygen_saturation', 'cholesterol',\n",
        "       'triglycerides', 'hba1c','diet_score','stress_level', 'sleep_hours','noise_col']]\n",
        "\n",
        "df_complete.head()\n"
      ]
    },
    {
      "cell_type": "code",
      "execution_count": null,
      "metadata": {
        "id": "s72wRIhIp91j"
      },
      "outputs": [],
      "source": [
        "df_complete.shape"
      ]
    },
    {
      "cell_type": "markdown",
      "metadata": {
        "id": "ObsAnrbHnIKd"
      },
      "source": [
        "# Training and Test Phase"
      ]
    },
    {
      "cell_type": "code",
      "execution_count": null,
      "metadata": {
        "id": "fIFfhD9ZkBSY"
      },
      "outputs": [],
      "source": [
        "X = df_complete.drop('medical_condition', axis=1)  # all features except medical condition and noise_col\n",
        "y = df_complete['medical_condition']               # target"
      ]
    },
    {
      "cell_type": "code",
      "execution_count": null,
      "metadata": {
        "id": "mu3S2kX9nVL7"
      },
      "outputs": [],
      "source": [
        "X_train, X_test, y_train, y_test = train_test_split(X, y, test_size=0.2, random_state=42, stratify=y)\n"
      ]
    },
    {
      "cell_type": "code",
      "execution_count": null,
      "metadata": {
        "id": "eGVSqOHhx0Pq"
      },
      "outputs": [],
      "source": [
        "X_notscaled = df_clean.drop('medical_condition', axis=1)\n",
        "y_notscaled = df_clean['medical_condition']"
      ]
    },
    {
      "cell_type": "code",
      "execution_count": null,
      "metadata": {
        "id": "z3bNJzX-yK9G"
      },
      "outputs": [],
      "source": [
        "X_train_ns, X_test_ns, y_train_ns, y_test_ns = train_test_split(X_notscaled, y_notscaled, test_size=0.2, random_state=42, stratify=y_notscaled)"
      ]
    },
    {
      "cell_type": "markdown",
      "metadata": {
        "id": "CWVwQjdjufS5"
      },
      "source": [
        "## SVM\n",
        "\n"
      ]
    },
    {
      "cell_type": "markdown",
      "metadata": {
        "id": "-yPuLxZCE7k-"
      },
      "source": [
        "###SVC with rbd kernel removing one column\n",
        "Accuracy: 82%"
      ]
    },
    {
      "cell_type": "code",
      "execution_count": null,
      "metadata": {
        "id": "csjYKfOqE66z"
      },
      "outputs": [],
      "source": [
        "# Remove column noise_col because of outliers\n",
        "df_rm1c = df_complete.drop('noise_col', axis=1)\n",
        "df_rm1c.head()"
      ]
    },
    {
      "cell_type": "code",
      "execution_count": null,
      "metadata": {
        "id": "a2dSwKRKF1u8"
      },
      "outputs": [],
      "source": [
        "X1 = df_rm1c.drop('medical_condition', axis=1)\n",
        "y1 = df_rm1c['medical_condition']"
      ]
    },
    {
      "cell_type": "code",
      "execution_count": null,
      "metadata": {
        "id": "1RuIIfe-GIKM"
      },
      "outputs": [],
      "source": [
        "X_train_1, X_test_1, y_train_1, y_test_1 = train_test_split(X1, y1, test_size=0.2, random_state=42, stratify=y1)\n"
      ]
    },
    {
      "cell_type": "code",
      "execution_count": null,
      "metadata": {
        "id": "AgmYc1b-GYjv"
      },
      "outputs": [],
      "source": [
        "svm_model_1 = SVC(kernel='rbf', C=1.0, probability=True, random_state=42)\n",
        "svm_model_1.fit(X_train_1, y_train_1)"
      ]
    },
    {
      "cell_type": "code",
      "execution_count": null,
      "metadata": {
        "id": "F7UaJQT-G_M3"
      },
      "outputs": [],
      "source": [
        "y_pred1s = svm_model_1.predict(X_test_1)\n",
        "\n",
        "print(\"Classification Report:\")\n",
        "print(classification_report(y_test_1, y_pred1s))"
      ]
    },
    {
      "cell_type": "markdown",
      "metadata": {
        "id": "G29rGHx3nu6i"
      },
      "source": [
        "###SVC with rbf kernel\n",
        "Accuracy: 82%"
      ]
    },
    {
      "cell_type": "code",
      "execution_count": null,
      "metadata": {
        "id": "T648ycDbnsja"
      },
      "outputs": [],
      "source": [
        "svm_model = SVC(kernel='rbf', C=1.0, probability=True, random_state=42)\n",
        "svm_model.fit(X_train, y_train)"
      ]
    },
    {
      "cell_type": "code",
      "execution_count": null,
      "metadata": {
        "id": "_MJdZRsU6649"
      },
      "outputs": [],
      "source": [
        "y_pred = svm_model.predict(X_test)\n",
        "print(\"Classification Report:\")\n",
        "print(classification_report(y_test, y_pred))"
      ]
    },
    {
      "cell_type": "code",
      "execution_count": null,
      "metadata": {
        "id": "9vpuB36ZqjYd"
      },
      "outputs": [],
      "source": [
        "# to 2D\n",
        "pca = PCA(n_components=2)\n",
        "X_test_2d = pca.fit_transform(X_test)\n",
        "\n",
        "# samples\n",
        "plt.figure(figsize=(8,6))\n",
        "for class_label in np.unique(y_test):\n",
        "    plt.scatter(\n",
        "        X_test_2d[y_test==class_label, 0],\n",
        "        X_test_2d[y_test==class_label, 1],\n",
        "        label=f\"Class {class_label}\",\n",
        "        alpha=0.6\n",
        "    )\n",
        "\n",
        "\n",
        "plt.xlabel(\"PCA Component 1\")\n",
        "plt.ylabel(\"PCA Component 2\")\n",
        "plt.title(\"SVM Test Samples\")\n",
        "plt.legend()\n",
        "plt.show()\n"
      ]
    },
    {
      "cell_type": "code",
      "execution_count": null,
      "metadata": {
        "id": "IqxNqHQCsiRn"
      },
      "outputs": [],
      "source": [
        "sv = svm_model.support_vectors_\n",
        "sv_2d = pca.transform(sv)\n",
        "plt.scatter(sv_2d[:,0], sv_2d[:,1], s=100, facecolors='none', edgecolors='k', label='Support Vectors')\n",
        "plt.legend()\n",
        "plt.show()\n"
      ]
    },
    {
      "cell_type": "code",
      "execution_count": null,
      "metadata": {
        "id": "ixY_4WcC0xeq"
      },
      "outputs": [],
      "source": [
        "# Confusion matrix\n",
        "cm = confusion_matrix(y_test, y_pred)\n",
        "disp = ConfusionMatrixDisplay(confusion_matrix=cm, display_labels=np.unique(y_test))\n",
        "\n",
        "disp.plot(cmap='PiYG')\n",
        "plt.title(\"Confusion Matrix\")\n",
        "plt.show()\n"
      ]
    },
    {
      "cell_type": "code",
      "execution_count": null,
      "metadata": {
        "id": "hOYb8UTk1gTl"
      },
      "outputs": [],
      "source": [
        "# 25 first predictios\n",
        "for true, pred in zip(y_test[:25], y_pred[:20]):\n",
        "    print(f\"True: {true} → Predicted: {pred}\")\n"
      ]
    },
    {
      "cell_type": "code",
      "execution_count": null,
      "metadata": {
        "id": "CSTkevTE2vUR"
      },
      "outputs": [],
      "source": [
        "# orinala labels\n",
        "original_labels = df['medical_condition']\n",
        "from sklearn.preprocessing import LabelEncoder\n",
        "\n",
        "le = LabelEncoder()\n",
        "y = le.fit_transform(original_labels)\n",
        "\n",
        "\n",
        "print(le.classes_)\n",
        "\n",
        "\n"
      ]
    },
    {
      "cell_type": "code",
      "execution_count": null,
      "metadata": {
        "id": "o4Ama8Bl3F0o"
      },
      "outputs": [],
      "source": [
        "y_pred_named = le.inverse_transform(y_pred)\n",
        "y_test_named = le.inverse_transform(y_test)\n",
        "\n",
        "# 30 predictions\n",
        "for true, pred in zip(y_test_named[:30], y_pred_named[:20]):\n",
        "    print(f\"Actual: {true} → Predicted: {pred}\")\n"
      ]
    },
    {
      "cell_type": "markdown",
      "metadata": {
        "id": "1hA9FdyeBpMl"
      },
      "source": [
        "###SVC with linear kernel\n",
        "Accuracy:79%"
      ]
    },
    {
      "cell_type": "code",
      "execution_count": null,
      "metadata": {
        "id": "P0b9XY0x4_2z"
      },
      "outputs": [],
      "source": [
        "svm_model2 = SVC(kernel='linear', C=1.0, probability=True, random_state=42)\n",
        "svm_model2.fit(X_train, y_train)"
      ]
    },
    {
      "cell_type": "code",
      "execution_count": null,
      "metadata": {
        "id": "ur-uXm6wAm2_"
      },
      "outputs": [],
      "source": [
        "y_pred2 = svm_model2.predict(X_test)\n",
        "\n",
        "print(\"Classification Report:\")\n",
        "print(classification_report(y_test, y_pred2))"
      ]
    },
    {
      "cell_type": "markdown",
      "metadata": {
        "id": "4v55DKUFCpAl"
      },
      "source": [
        "###SVC with poly kernel\n",
        "\n",
        "Accuracy: 80%"
      ]
    },
    {
      "cell_type": "code",
      "execution_count": null,
      "metadata": {
        "id": "Nodg9T4xA_mM"
      },
      "outputs": [],
      "source": [
        "svm_model3 = SVC(kernel='poly', C=1.0, probability=True, random_state=42)\n",
        "svm_model3.fit(X_train, y_train)"
      ]
    },
    {
      "cell_type": "code",
      "execution_count": null,
      "metadata": {
        "id": "faKYCL2iDhuZ"
      },
      "outputs": [],
      "source": [
        "y_pred3 = svm_model3.predict(X_test)\n",
        "\n",
        "print(\"Classification Report:\")\n",
        "print(classification_report(y_test, y_pred3))"
      ]
    },
    {
      "cell_type": "markdown",
      "metadata": {
        "id": "EtijJJ_cMnea"
      },
      "source": [
        "###NuSVC\n",
        "Accuracy: 51%"
      ]
    },
    {
      "cell_type": "code",
      "execution_count": null,
      "metadata": {
        "id": "us1kGq8ZEJxW"
      },
      "outputs": [],
      "source": [
        "model4 = NuSVC(nu=0.05, kernel='poly', probability=True)\n",
        "model4.fit(X_train, y_train)"
      ]
    },
    {
      "cell_type": "code",
      "execution_count": null,
      "metadata": {
        "id": "9qcI_cCiE4Zs"
      },
      "outputs": [],
      "source": [
        "y_pred4 = model4.predict(X_test)\n",
        "\n",
        "print(\"Classification Report:\")\n",
        "print(classification_report(y_test, y_pred4))"
      ]
    },
    {
      "cell_type": "markdown",
      "metadata": {
        "id": "jOhqu47Gop_c"
      },
      "source": [
        "###LinearSVC"
      ]
    },
    {
      "cell_type": "markdown",
      "metadata": {
        "id": "Pxajl5C0o8zg"
      },
      "source": [
        "####hinge\n",
        "Accuracy: 78%"
      ]
    },
    {
      "cell_type": "code",
      "execution_count": null,
      "metadata": {
        "id": "-mzw4BSRM23e"
      },
      "outputs": [],
      "source": [
        "model_linearSVC = LinearSVC(loss='hinge', C=1.2, max_iter=2000)\n",
        "model_linearSVC.fit(X_train, y_train)"
      ]
    },
    {
      "cell_type": "code",
      "execution_count": null,
      "metadata": {
        "id": "m-CS1diXNVAj"
      },
      "outputs": [],
      "source": [
        "y_pred5 = model_linearSVC.predict(X_test)\n",
        "\n",
        "print(\"Classification Report:\")\n",
        "print(classification_report(y_test, y_pred5))"
      ]
    },
    {
      "cell_type": "markdown",
      "metadata": {
        "id": "5B83I2hLoyAX"
      },
      "source": [
        "####squared_hinge\n",
        "\n",
        "Accuracy:78%"
      ]
    },
    {
      "cell_type": "code",
      "execution_count": null,
      "metadata": {
        "id": "EQEZh5bLN-Dv"
      },
      "outputs": [],
      "source": [
        "model_linearSVC2 = LinearSVC(loss='squared_hinge', C=3, max_iter=1000)\n",
        "model_linearSVC2.fit(X_train, y_train)"
      ]
    },
    {
      "cell_type": "code",
      "execution_count": null,
      "metadata": {
        "id": "m_zUAnPgOOWG"
      },
      "outputs": [],
      "source": [
        "y_pred6 = model_linearSVC2.predict(X_test)\n",
        "\n",
        "print(\"Accuracy:\", accuracy_score(y_test, y_pred6))\n",
        "print(\"Classification Report:\")\n",
        "print(classification_report(y_test, y_pred6))"
      ]
    },
    {
      "cell_type": "markdown",
      "metadata": {
        "id": "VZVejsF_WbLg"
      },
      "source": [
        "##Logistic Regression\n",
        "Accuracy: 78%"
      ]
    },
    {
      "cell_type": "code",
      "execution_count": null,
      "metadata": {
        "id": "5vBpoeXoSMUi"
      },
      "outputs": [],
      "source": [
        "log_reg = LogisticRegression(max_iter=1000, random_state=42)\n",
        "log_reg.fit(X_train, y_train)"
      ]
    },
    {
      "cell_type": "code",
      "execution_count": null,
      "metadata": {
        "id": "eUmdWN_HSjuV"
      },
      "outputs": [],
      "source": [
        "y_pred_log = log_reg.predict(X_test)\n",
        "print(\"Accuracy:\", accuracy_score(y_test, y_pred_log))\n",
        "print(\"\\nClassification Report:\\n\", classification_report(y_test, y_pred_log))\n",
        "print(\"\\nConfusion Matrix:\\n\", confusion_matrix(y_test, y_pred_log))"
      ]
    },
    {
      "cell_type": "markdown",
      "metadata": {
        "id": "-vJgck6_bheP"
      },
      "source": [
        "##Random Forest\n",
        "Accuracy: 82%\n",
        "\n",
        "Changed n_estimators but there were not significant changes in accuracy"
      ]
    },
    {
      "cell_type": "code",
      "execution_count": null,
      "metadata": {
        "id": "OJ5UtJvvYoM6"
      },
      "outputs": [],
      "source": [
        "rf_model = RandomForestClassifier(n_estimators=100,max_depth=None,random_state=42)\n",
        "rf_model.fit(X_train_ns, y_train_ns)"
      ]
    },
    {
      "cell_type": "code",
      "execution_count": null,
      "metadata": {
        "id": "M2_VZK_9bgE4"
      },
      "outputs": [],
      "source": [
        "y_pred_rf = rf_model.predict(X_test_ns)\n",
        "print(\"Accuracy:\", accuracy_score(y_test_ns, y_pred_rf))\n",
        "print(\"\\nClassification Report:\\n\", classification_report(y_test_ns, y_pred_rf))"
      ]
    },
    {
      "cell_type": "code",
      "execution_count": null,
      "metadata": {
        "id": "N9EeF0TvbhIc"
      },
      "outputs": [],
      "source": [
        "cm = confusion_matrix(y_test_ns, y_pred_rf)\n",
        "\n",
        "disp = ConfusionMatrixDisplay(confusion_matrix=cm, display_labels=rf_model.classes_)\n",
        "disp.plot(cmap='BuPu_r')\n",
        "plt.title(\"Random Forest Confusion Matrix\")\n",
        "plt.show()"
      ]
    },
    {
      "cell_type": "markdown",
      "metadata": {
        "id": "7FLUpziogt5U"
      },
      "source": [
        "##GradientBoostingClassifier\n",
        "\n",
        "Accuracy: 81%"
      ]
    },
    {
      "cell_type": "code",
      "execution_count": null,
      "metadata": {
        "id": "Y0sAWA9pf3I_"
      },
      "outputs": [],
      "source": [
        "gb_model = GradientBoostingClassifier(n_estimators=60,learning_rate=0.1,max_depth=3,random_state=42)\n",
        "gb_model.fit(X_train_ns, y_train_ns)"
      ]
    },
    {
      "cell_type": "code",
      "execution_count": null,
      "metadata": {
        "id": "SKgnUkPCiV4A"
      },
      "outputs": [],
      "source": [
        "y_pred_gb = gb_model.predict(X_test_ns)\n",
        "\n",
        "print(\"Accuracy:\", accuracy_score(y_test_ns, y_pred_gb))\n",
        "print(\"Classification Report:\\n\", classification_report(y_test_ns, y_pred_gb))"
      ]
    },
    {
      "cell_type": "code",
      "execution_count": null,
      "metadata": {
        "id": "EgW0UoW_hdCB"
      },
      "outputs": [],
      "source": [
        "cm = confusion_matrix(y_test_ns, y_pred_gb)\n",
        "sns.heatmap(cm, annot=True, fmt='d', cmap='Blues')\n",
        "plt.title(\"Gradient Boosting Confusion Matrix\")\n",
        "plt.show()"
      ]
    },
    {
      "cell_type": "markdown",
      "metadata": {
        "id": "2Uta9ZoPrTbB"
      },
      "source": [
        "##XGBoost Classifier\n",
        "Accuracy: 81%"
      ]
    },
    {
      "cell_type": "code",
      "execution_count": null,
      "metadata": {
        "id": "0gOsIh-sriW6"
      },
      "outputs": [],
      "source": [
        "xgb_model = XGBClassifier(n_estimators=100,max_depth=3,learning_rate=0.1,eval_metric='mlogloss',random_state=42)\n",
        "\n",
        "xgb_model.fit(X_train_ns, y_train_ns)"
      ]
    },
    {
      "cell_type": "code",
      "execution_count": null,
      "metadata": {
        "id": "uNRXWmfUr755"
      },
      "outputs": [],
      "source": [
        "y_predxgb = xgb_model.predict(X_test_ns)\n",
        "\n",
        "print(\"Accuracy:\", accuracy_score(y_test_ns, y_predxgb))\n",
        "print(\"Classification Report:\\n\", classification_report(y_test_ns, y_predxgb))"
      ]
    },
    {
      "cell_type": "code",
      "execution_count": null,
      "metadata": {
        "id": "tqzO22QbsvTM"
      },
      "outputs": [],
      "source": [
        "cm = confusion_matrix(y_test, y_predxgb)\n",
        "sns.heatmap(cm, annot=True, fmt='d', cmap='Oranges')\n",
        "plt.title(\"XGBoost Confusion Matrix\")\n",
        "plt.show()"
      ]
    },
    {
      "cell_type": "markdown",
      "metadata": {
        "id": "LUh-oLCztbOL"
      },
      "source": [
        "##Neural Network\n",
        "Accuracy: 82%"
      ]
    },
    {
      "cell_type": "code",
      "execution_count": null,
      "metadata": {
        "id": "-sXDS8F0uJU-"
      },
      "outputs": [],
      "source": [
        "\n",
        "nn_model = MLPClassifier(hidden_layer_sizes=(16,8), activation='relu', max_iter=500, random_state=42)\n",
        "nn_model.fit(X_train, y_train)"
      ]
    },
    {
      "cell_type": "code",
      "execution_count": null,
      "metadata": {
        "id": "4UGXdQzauiQU"
      },
      "outputs": [],
      "source": [
        "y_pred_nn = nn_model.predict(X_test)\n",
        "\n",
        "print(\"Accuracy:\", accuracy_score(y_test, y_pred_nn))\n",
        "print(\"Classification Report:\\n\", classification_report(y_test, y_pred_nn))"
      ]
    },
    {
      "cell_type": "markdown",
      "metadata": {
        "id": "X-jqBW2y-boj"
      },
      "source": [
        "##KNN\n",
        "Accuracy: 80%"
      ]
    },
    {
      "cell_type": "code",
      "execution_count": null,
      "metadata": {
        "id": "ni0Y41gQ-fMo"
      },
      "outputs": [],
      "source": [
        "knn_model = KNeighborsClassifier(n_neighbors=15, metric='minkowski')\n",
        "knn_model.fit(X_train, y_train)"
      ]
    },
    {
      "cell_type": "code",
      "execution_count": null,
      "metadata": {
        "id": "EB53MjNz-h0t"
      },
      "outputs": [],
      "source": [
        "y_pred_knn = knn_model.predict(X_test)\n",
        "\n",
        "print(\"Accuracy:\", accuracy_score(y_test, y_pred_knn))\n",
        "print(\"Classification Report:\\n\", classification_report(y_test, y_pred_knn))\n",
        "print(\"Confusion Matric\\n\",confusion_matrix(y_test, y_pred_knn))"
      ]
    },
    {
      "cell_type": "markdown",
      "metadata": {
        "id": "OXXdfzhD1fcJ"
      },
      "source": [
        "###KNN with k folds\n",
        "Accuracy: 80%"
      ]
    },
    {
      "cell_type": "code",
      "execution_count": null,
      "metadata": {
        "id": "SWw4P5OD1ihQ"
      },
      "outputs": [],
      "source": [
        "kf = KFold(n_splits=8, shuffle=True, random_state=42)"
      ]
    },
    {
      "cell_type": "code",
      "execution_count": null,
      "metadata": {
        "id": "6zsUhV6H2HYI"
      },
      "outputs": [],
      "source": [
        "scores = cross_val_score(knn_model, X, y, cv=kf, scoring='accuracy')\n",
        "\n",
        "print(\"Accuracy for each fold:\", scores)\n",
        "print(\"Mean accuracy:\", scores.mean())"
      ]
    }
  ],
  "metadata": {
    "colab": {
      "collapsed_sections": [
        "elkTRcXhkDL4",
        "tnN6HNdxkb5A",
        "D0IHj5aqkqls",
        "5nuC6Gmdk7iI",
        "ObsAnrbHnIKd",
        "-yPuLxZCE7k-"
      ],
      "provenance": [],
      "authorship_tag": "ABX9TyMzbZYw4ALXc36AIlWuCMJa",
      "include_colab_link": true
    },
    "kernelspec": {
      "display_name": "Python 3",
      "name": "python3"
    },
    "language_info": {
      "name": "python"
    }
  },
  "nbformat": 4,
  "nbformat_minor": 0
}